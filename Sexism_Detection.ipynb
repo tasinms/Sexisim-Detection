{
  "cells": [
    {
      "attachments": {},
      "cell_type": "markdown",
      "metadata": {
        "id": "D0p-UCdXsIOJ"
      },
      "source": [
        "# Loading the Dataset"
      ]
    },
    {
      "cell_type": "code",
      "execution_count": 1,
      "metadata": {
        "id": "9k2gpA2gluu2"
      },
      "outputs": [
        {
          "name": "stderr",
          "output_type": "stream",
          "text": [
            "[nltk_data] Downloading package stopwords to\n",
            "[nltk_data]     C:\\Users\\tasin\\AppData\\Roaming\\nltk_data...\n",
            "[nltk_data]   Package stopwords is already up-to-date!\n"
          ]
        }
      ],
      "source": [
        "import pandas as pd\n",
        "import numpy as np\n",
        "from sklearn.feature_extraction.text import CountVectorizer\n",
        "from sklearn.model_selection import train_test_split\n",
        "from sklearn.tree import DecisionTreeClassifier\n",
        "import re\n",
        "import nltk\n",
        "nltk.download('stopwords')\n",
        "from nltk.util import pr\n",
        "stemmer = nltk.SnowballStemmer(\"english\")\n",
        "from nltk.corpus import stopwords\n",
        "import string\n",
        "stopword = set(stopwords.words(\"english\"))\n",
        "import matplotlib.pyplot as plt\n",
        "import seaborn as sns\n",
        "from wordcloud import WordCloud\n",
        "from sklearn.metrics import confusion_matrix"
      ]
    },
    {
      "cell_type": "code",
      "execution_count": 2,
      "metadata": {
        "id": "knwp_nbAmvsl"
      },
      "outputs": [],
      "source": [
        "data = pd.read_csv('sexism_dataset.csv')"
      ]
    },
    {
      "cell_type": "code",
      "execution_count": 3,
      "metadata": {
        "colab": {
          "base_uri": "https://localhost:8080/",
          "height": 206
        },
        "id": "8OyIS6qxpjbl",
        "outputId": "590f5f21-3536-4897-9c69-f74a0dc6aaae"
      },
      "outputs": [
        {
          "data": {
            "text/html": [
              "<div>\n",
              "<style scoped>\n",
              "    .dataframe tbody tr th:only-of-type {\n",
              "        vertical-align: middle;\n",
              "    }\n",
              "\n",
              "    .dataframe tbody tr th {\n",
              "        vertical-align: top;\n",
              "    }\n",
              "\n",
              "    .dataframe thead th {\n",
              "        text-align: right;\n",
              "    }\n",
              "</style>\n",
              "<table border=\"1\" class=\"dataframe\">\n",
              "  <thead>\n",
              "    <tr style=\"text-align: right;\">\n",
              "      <th></th>\n",
              "      <th>rewire_id</th>\n",
              "      <th>text</th>\n",
              "      <th>label_sexist</th>\n",
              "      <th>label_category</th>\n",
              "      <th>label_vector</th>\n",
              "    </tr>\n",
              "  </thead>\n",
              "  <tbody>\n",
              "    <tr>\n",
              "      <th>0</th>\n",
              "      <td>sexism2022_english-7358</td>\n",
              "      <td>Damn, this writing was pretty chaotic</td>\n",
              "      <td>not sexist</td>\n",
              "      <td>none</td>\n",
              "      <td>none</td>\n",
              "    </tr>\n",
              "    <tr>\n",
              "      <th>1</th>\n",
              "      <td>sexism2022_english-2367</td>\n",
              "      <td>Yeah, and apparently a bunch of misogynistic v...</td>\n",
              "      <td>not sexist</td>\n",
              "      <td>none</td>\n",
              "      <td>none</td>\n",
              "    </tr>\n",
              "    <tr>\n",
              "      <th>2</th>\n",
              "      <td>sexism2022_english-3073</td>\n",
              "      <td>How the FUCK is this woman still an MP!!!???</td>\n",
              "      <td>not sexist</td>\n",
              "      <td>none</td>\n",
              "      <td>none</td>\n",
              "    </tr>\n",
              "    <tr>\n",
              "      <th>3</th>\n",
              "      <td>sexism2022_english-14895</td>\n",
              "      <td>Understand. Know you're right. At same time I ...</td>\n",
              "      <td>not sexist</td>\n",
              "      <td>none</td>\n",
              "      <td>none</td>\n",
              "    </tr>\n",
              "    <tr>\n",
              "      <th>4</th>\n",
              "      <td>sexism2022_english-4118</td>\n",
              "      <td>Surprized they didn't stop and rape some women</td>\n",
              "      <td>not sexist</td>\n",
              "      <td>none</td>\n",
              "      <td>none</td>\n",
              "    </tr>\n",
              "  </tbody>\n",
              "</table>\n",
              "</div>"
            ],
            "text/plain": [
              "                  rewire_id  \\\n",
              "0   sexism2022_english-7358   \n",
              "1   sexism2022_english-2367   \n",
              "2   sexism2022_english-3073   \n",
              "3  sexism2022_english-14895   \n",
              "4   sexism2022_english-4118   \n",
              "\n",
              "                                                text label_sexist  \\\n",
              "0              Damn, this writing was pretty chaotic   not sexist   \n",
              "1  Yeah, and apparently a bunch of misogynistic v...   not sexist   \n",
              "2       How the FUCK is this woman still an MP!!!???   not sexist   \n",
              "3  Understand. Know you're right. At same time I ...   not sexist   \n",
              "4     Surprized they didn't stop and rape some women   not sexist   \n",
              "\n",
              "  label_category label_vector  \n",
              "0           none         none  \n",
              "1           none         none  \n",
              "2           none         none  \n",
              "3           none         none  \n",
              "4           none         none  "
            ]
          },
          "execution_count": 3,
          "metadata": {},
          "output_type": "execute_result"
        }
      ],
      "source": [
        "data.head()"
      ]
    },
    {
      "attachments": {},
      "cell_type": "markdown",
      "metadata": {
        "id": "Ak1h1Cxm5ICD"
      },
      "source": [
        "# Data Preprocessing"
      ]
    },
    {
      "cell_type": "code",
      "execution_count": 4,
      "metadata": {
        "colab": {
          "base_uri": "https://localhost:8080/",
          "height": 206
        },
        "id": "B50DoqbHrDXl",
        "outputId": "4a815ca9-4532-4686-8089-cf4a4bf99ec8"
      },
      "outputs": [
        {
          "data": {
            "text/html": [
              "<div>\n",
              "<style scoped>\n",
              "    .dataframe tbody tr th:only-of-type {\n",
              "        vertical-align: middle;\n",
              "    }\n",
              "\n",
              "    .dataframe tbody tr th {\n",
              "        vertical-align: top;\n",
              "    }\n",
              "\n",
              "    .dataframe thead th {\n",
              "        text-align: right;\n",
              "    }\n",
              "</style>\n",
              "<table border=\"1\" class=\"dataframe\">\n",
              "  <thead>\n",
              "    <tr style=\"text-align: right;\">\n",
              "      <th></th>\n",
              "      <th>text</th>\n",
              "      <th>label_sexist</th>\n",
              "    </tr>\n",
              "  </thead>\n",
              "  <tbody>\n",
              "    <tr>\n",
              "      <th>0</th>\n",
              "      <td>Damn, this writing was pretty chaotic</td>\n",
              "      <td>not sexist</td>\n",
              "    </tr>\n",
              "    <tr>\n",
              "      <th>1</th>\n",
              "      <td>Yeah, and apparently a bunch of misogynistic v...</td>\n",
              "      <td>not sexist</td>\n",
              "    </tr>\n",
              "    <tr>\n",
              "      <th>2</th>\n",
              "      <td>How the FUCK is this woman still an MP!!!???</td>\n",
              "      <td>not sexist</td>\n",
              "    </tr>\n",
              "    <tr>\n",
              "      <th>3</th>\n",
              "      <td>Understand. Know you're right. At same time I ...</td>\n",
              "      <td>not sexist</td>\n",
              "    </tr>\n",
              "    <tr>\n",
              "      <th>4</th>\n",
              "      <td>Surprized they didn't stop and rape some women</td>\n",
              "      <td>not sexist</td>\n",
              "    </tr>\n",
              "  </tbody>\n",
              "</table>\n",
              "</div>"
            ],
            "text/plain": [
              "                                                text label_sexist\n",
              "0              Damn, this writing was pretty chaotic   not sexist\n",
              "1  Yeah, and apparently a bunch of misogynistic v...   not sexist\n",
              "2       How the FUCK is this woman still an MP!!!???   not sexist\n",
              "3  Understand. Know you're right. At same time I ...   not sexist\n",
              "4     Surprized they didn't stop and rape some women   not sexist"
            ]
          },
          "execution_count": 4,
          "metadata": {},
          "output_type": "execute_result"
        }
      ],
      "source": [
        "columns_to_remove = ['rewire_id', 'label_category', 'label_vector']\n",
        "data = data.drop(columns_to_remove, axis=1)\n",
        "\n",
        "data.head()"
      ]
    },
    {
      "cell_type": "code",
      "execution_count": 5,
      "metadata": {
        "id": "rslzDlsL70QV"
      },
      "outputs": [],
      "source": [
        "data['text'] = data['text'].str.replace('\\[URL\\]', '', regex=True)"
      ]
    },
    {
      "attachments": {},
      "cell_type": "markdown",
      "metadata": {
        "id": "6zIznPED4_6c"
      },
      "source": [
        "# Data Visualization"
      ]
    },
    {
      "cell_type": "code",
      "execution_count": 6,
      "metadata": {
        "colab": {
          "base_uri": "https://localhost:8080/",
          "height": 574
        },
        "id": "HEdA_q-y4jKz",
        "outputId": "cdd1712a-566a-4bb2-b00a-e9f860263c2e"
      },
      "outputs": [
        {
          "name": "stdout",
          "output_type": "stream",
          "text": [
            "not sexist    10602\n",
            "sexist         3398\n",
            "Name: label_sexist, dtype: int64\n",
            "Proportion: 3.12 : 1\n"
          ]
        },
        {
          "data": {
            "image/png": "[encoded data removed]",
            "text/plain": [
              "<Figure size 432x288 with 1 Axes>"
            ]
          },
          "metadata": {
            "needs_background": "light"
          },
          "output_type": "display_data"
        }
      ],
      "source": [
        "count = data['label_sexist'].value_counts()\n",
        "print(count)\n",
        "print('Proportion:', round(count[0] / count[1], 2), ': 1')\n",
        "\n",
        "count.plot(kind='bar', title='Sexism Indicator in the Imbalanced Dataset');"
      ]
    },
    {
      "attachments": {},
      "cell_type": "markdown",
      "metadata": {
        "id": "sVo0h58fOVgS"
      },
      "source": [
        "Most common words in texts which are Not Sexist"
      ]
    },
    {
      "cell_type": "code",
      "execution_count": 7,
      "metadata": {
        "colab": {
          "base_uri": "https://localhost:8080/",
          "height": 653
        },
        "id": "DjrsS7jd6QY7",
        "outputId": "dd389bc3-ae42-4af6-f7e3-1ab97511b9c2"
      },
      "outputs": [],
      "source": [
        "import matplotlib.font_manager as fm\n",
        "\n",
        "# Specify the font to use\n",
        "font_path = 'arial.ttf'\n",
        "font_prop = fm.FontProperties(fname=font_path)\n",
        "\n",
        "# Separate sexist and not sexist examples\n",
        "sexist_examples = data[data['label_sexist'] == 'sexist']['text']\n",
        "not_sexist_examples = data[data['label_sexist'] == 'not sexist']['text']\n",
        "\n",
        "# Create word clouds for not sexist examples\n",
        "not_sexist_wordcloud = WordCloud(width=800, height=800, background_color='white', max_words=50, font_path=font_path).generate(' '.join(not_sexist_examples))\n",
        "plt.figure(figsize=(8,8))\n",
        "plt.imshow(not_sexist_wordcloud, interpolation='bilinear')\n",
        "plt.axis('off')\n",
        "plt.show()"
      ]
    },
    {
      "attachments": {},
      "cell_type": "markdown",
      "metadata": {
        "id": "STLdxNX2OgdD"
      },
      "source": [
        "Most common words in texts which are Sexist"
      ]
    },
    {
      "cell_type": "code",
      "execution_count": 8,
      "metadata": {
        "colab": {
          "base_uri": "https://localhost:8080/",
          "height": 653
        },
        "id": "dhWx6NCY8tlD",
        "outputId": "b47408f8-5b46-4163-a768-41db191f763b"
      },
      "outputs": [],
      "source": [
        "# create word clouds for sexist examples\n",
        "sexist_wordcloud = WordCloud(width=800, height=800, background_color='white', max_words=50).generate(' '.join(sexist_examples))\n",
        "plt.figure(figsize=(8,8))\n",
        "plt.imshow(sexist_wordcloud, interpolation='bilinear')\n",
        "plt.axis('off')\n",
        "plt.show()"
      ]
    },
    {
      "attachments": {},
      "cell_type": "markdown",
      "metadata": {
        "id": "vbzYKUCbNMDK"
      },
      "source": [
        "# Balancing the Dataset"
      ]
    },
    {
      "cell_type": "code",
      "execution_count": 9,
      "metadata": {
        "id": "hgyS6Lke86Fj"
      },
      "outputs": [],
      "source": [
        "# Split the data into two subsets based on the \"label_sexist\" column\n",
        "sexist_examples = data[data['label_sexist'] == 'sexist']\n",
        "not_sexist_examples = data[data['label_sexist'] == 'not sexist']\n",
        "\n",
        "# Determine the size of the minority and majority classes\n",
        "minority_size = len(sexist_examples)\n",
        "majority_size = len(not_sexist_examples)\n",
        "\n",
        "# Compute the oversampling ratio\n",
        "oversampling_ratio = int(majority_size / minority_size)\n",
        "\n",
        "# Oversample the minority class by duplicating examples\n",
        "oversampled_sexist_examples = sexist_examples.sample(n=minority_size * oversampling_ratio, replace=True)\n",
        "\n",
        "# Combine the oversampled minority class with the majority class\n",
        "balanced_data = pd.concat([not_sexist_examples, oversampled_sexist_examples])\n",
        "\n",
        "# Shuffle the rows of the data to avoid any bias\n",
        "balanced_data = balanced_data.sample(frac=1).reset_index(drop=True)"
      ]
    },
    {
      "cell_type": "code",
      "execution_count": 10,
      "metadata": {
        "colab": {
          "base_uri": "https://localhost:8080/",
          "height": 574
        },
        "id": "ZPOXYM8RN1Ba",
        "outputId": "4ffcdab4-d57c-47f2-f339-5f7c4f4c0fa8"
      },
      "outputs": [
        {
          "name": "stdout",
          "output_type": "stream",
          "text": [
            "No. of \"Not Sexist\" examples in the Balanced Dataset: 10602\n",
            "No. of \"Sexist\" examples in the Balanced Dataset: 10194\n",
            "Ratio of \"Not Sexist\" to \"Sexist\" in the Balanced Dataset: 1.04 : 1\n"
          ]
        },
        {
          "data": {
            "image/png": "[encoded data removed]",
            "text/plain": [
              "<Figure size 432x288 with 1 Axes>"
            ]
          },
          "metadata": {
            "needs_background": "light"
          },
          "output_type": "display_data"
        }
      ],
      "source": [
        "count = balanced_data['label_sexist'].value_counts()\n",
        "print('No. of \"Not Sexist\" examples in the Balanced Dataset:', count[0])\n",
        "print('No. of \"Sexist\" examples in the Balanced Dataset:', count[1])\n",
        "print('Ratio of \"Not Sexist\" to \"Sexist\" in the Balanced Dataset:', round(count[0] / count[1], 2), ': 1')\n",
        "\n",
        "count.plot(kind='bar', title='Sexism Indicator in the Balanced Dataset');"
      ]
    },
    {
      "attachments": {},
      "cell_type": "markdown",
      "metadata": {
        "id": "F4ukm48S5SYj"
      },
      "source": [
        "Train-Test Split"
      ]
    },
    {
      "cell_type": "code",
      "execution_count": 11,
      "metadata": {
        "id": "dM4Bvt-P7Afu"
      },
      "outputs": [],
      "source": [
        "x = np.array(balanced_data[\"text\"])\n",
        "y = np.array(balanced_data[\"label_sexist\"])\n",
        "\n",
        "cv = CountVectorizer()\n",
        "x = cv.fit_transform(x)\n",
        "X_train, X_test, y_train, y_test = train_test_split(x, y, test_size= 0.25, random_state= 42)"
      ]
    },
    {
      "attachments": {},
      "cell_type": "markdown",
      "metadata": {
        "id": "b8W_qO_i0PF9"
      },
      "source": [
        "# Decision Tree"
      ]
    },
    {
      "cell_type": "code",
      "execution_count": 12,
      "metadata": {
        "colab": {
          "base_uri": "https://localhost:8080/",
          "height": 75
        },
        "id": "BylHZQHw0MPn",
        "outputId": "93163500-6fa0-43d5-fee3-8945826cff49"
      },
      "outputs": [
        {
          "data": {
            "text/plain": [
              "DecisionTreeClassifier()"
            ]
          },
          "execution_count": 12,
          "metadata": {},
          "output_type": "execute_result"
        }
      ],
      "source": [
        "dt = DecisionTreeClassifier()\n",
        "dt.fit(X_train, y_train)"
      ]
    },
    {
      "cell_type": "code",
      "execution_count": 13,
      "metadata": {
        "id": "DFPVK1us990s"
      },
      "outputs": [],
      "source": [
        "# test_data = \"she is bad\"\n",
        "# data = cv.transform([test_data]).toarray()\n",
        "# print(dt.predict(data))"
      ]
    },
    {
      "cell_type": "code",
      "execution_count": 14,
      "metadata": {
        "colab": {
          "base_uri": "https://localhost:8080/",
          "height": 0
        },
        "id": "DAoux8n1I0vj",
        "outputId": "d92f4053-6665-4b29-8cf9-de338df6a1d7"
      },
      "outputs": [],
      "source": [
        "y_test_prediction_dt = dt.predict(X_test)"
      ]
    },
    {
      "cell_type": "code",
      "execution_count": 15,
      "metadata": {
        "colab": {
          "base_uri": "https://localhost:8080/",
          "height": 0
        },
        "id": "xDuXsy5sOTjz",
        "outputId": "96e1d33f-a08a-4491-882d-f8b7d9a97f2b"
      },
      "outputs": [],
      "source": [
        "from sklearn.preprocessing import LabelEncoder\n",
        "\n",
        "le = LabelEncoder()\n",
        "le.fit(y_test)\n",
        "\n",
        "predicted_labels_dt = le.transform(y_test_prediction_dt)\n",
        "actual_labels = le.transform(y_test)"
      ]
    },
    {
      "cell_type": "code",
      "execution_count": 16,
      "metadata": {
        "colab": {
          "base_uri": "https://localhost:8080/",
          "height": 0
        },
        "id": "3F-wREN0HuyD",
        "outputId": "b514b961-e280-485c-df92-6ee3f3013bf3"
      },
      "outputs": [
        {
          "name": "stdout",
          "output_type": "stream",
          "text": [
            "Decison Tree Accuracy Measures:\n",
            "F1 Score: 0.9019970414201184\n",
            "AUC-ROC: 0.899092084491463\n",
            "Accuracy: 0.8980573187151375\n",
            "Precision: 0.8539915966386554\n",
            "Recall: 0.9557210031347962\n"
          ]
        }
      ],
      "source": [
        "from sklearn.metrics import f1_score, roc_auc_score, accuracy_score, precision_score, recall_score\n",
        "\n",
        "print('Decison Tree Accuracy Measures:')\n",
        "print('F1 Score:', f1_score(actual_labels, predicted_labels_dt))\n",
        "print('AUC-ROC:', roc_auc_score(actual_labels, predicted_labels_dt))\n",
        "print('Accuracy:', accuracy_score(actual_labels, predicted_labels_dt))\n",
        "print('Precision:', precision_score(actual_labels, predicted_labels_dt))\n",
        "print('Recall:', recall_score(actual_labels, predicted_labels_dt))"
      ]
    },
    {
      "attachments": {},
      "cell_type": "markdown",
      "metadata": {},
      "source": [
        "Confusion Matrix"
      ]
    },
    {
      "cell_type": "code",
      "execution_count": 17,
      "metadata": {},
      "outputs": [
        {
          "data": {
            "image/png": "[encoded data removed]",
            "text/plain": [
              "<Figure size 432x288 with 1 Axes>"
            ]
          },
          "metadata": {
            "needs_background": "light"
          },
          "output_type": "display_data"
        }
      ],
      "source": [
        "# Define the actual labels and predicted values\n",
        "y_true = np.array(actual_labels)\n",
        "y_pred = np.array(predicted_labels_dt)\n",
        "\n",
        "# Compute the confusion matrix\n",
        "cm = confusion_matrix(y_true, y_pred)\n",
        "\n",
        "# Define the labels for the matrix\n",
        "labels = [\"Not Sexist (0)\", \"Sexist (1)\"]\n",
        "\n",
        "# Create the plot and add labels\n",
        "plt.imshow(cm, cmap=\"binary\")\n",
        "plt.xticks([0, 1], labels)\n",
        "plt.yticks([0, 1], labels)\n",
        "plt.xlabel(\"Predicted\")\n",
        "plt.ylabel(\"Actual\")\n",
        "\n",
        "# Add the counts to the plot\n",
        "for i in range(2):\n",
        "    for j in range(2):\n",
        "        plt.text(j, i, str(cm[i, j]), ha=\"center\", va=\"center\", color=\"red\")\n",
        "\n",
        "# Show the plot\n",
        "plt.show()"
      ]
    },
    {
      "attachments": {},
      "cell_type": "markdown",
      "metadata": {},
      "source": [
        "ROC Curve"
      ]
    },
    {
      "cell_type": "code",
      "execution_count": 18,
      "metadata": {},
      "outputs": [
        {
          "data": {
            "image/png": "[encoded data removed]",
            "text/plain": [
              "<Figure size 432x288 with 1 Axes>"
            ]
          },
          "metadata": {
            "needs_background": "light"
          },
          "output_type": "display_data"
        }
      ],
      "source": [
        "from sklearn.metrics import roc_curve, auc\n",
        "\n",
        "# Define the actual labels and predicted values\n",
        "y_true = np.array(actual_labels)\n",
        "y_pred = np.array(predicted_labels_dt)\n",
        "\n",
        "# Compute the false positive rate, true positive rate, and threshold values\n",
        "fpr, tpr, thresholds = roc_curve(y_true, y_pred)\n",
        "\n",
        "# Compute the area under the ROC curve\n",
        "roc_auc = auc(fpr, tpr)\n",
        "\n",
        "# Create the plot and add labels\n",
        "plt.plot(fpr, tpr, color=\"blue\", label=\"ROC curve (AUC = {:.2f})\".format(roc_auc))\n",
        "plt.plot([0, 1], [0, 1], color=\"red\", linestyle=\"--\", label=\"Random guess\")\n",
        "plt.xlim([0, 1])\n",
        "plt.ylim([0, 1])\n",
        "plt.xlabel(\"False Positive Rate\")\n",
        "plt.ylabel(\"True Positive Rate\")\n",
        "plt.title(\"Receiver Operating Characteristic (ROC) Curve\")\n",
        "plt.legend(loc=\"lower right\")\n",
        "\n",
        "# Show the plot\n",
        "plt.show()"
      ]
    },
    {
      "attachments": {},
      "cell_type": "markdown",
      "metadata": {},
      "source": [
        " Precision-Recall Curve"
      ]
    },
    {
      "cell_type": "code",
      "execution_count": 19,
      "metadata": {},
      "outputs": [
        {
          "data": {
            "image/png": "[encoded data removed]",
            "text/plain": [
              "<Figure size 432x288 with 1 Axes>"
            ]
          },
          "metadata": {
            "needs_background": "light"
          },
          "output_type": "display_data"
        }
      ],
      "source": [
        "from sklearn.metrics import precision_recall_curve\n",
        "\n",
        "# Define the actual labels and predicted values\n",
        "y_true = np.array(actual_labels)\n",
        "y_pred = np.array(predicted_labels_dt)\n",
        "\n",
        "# Compute the precision, recall, and threshold values\n",
        "precision, recall, thresholds = precision_recall_curve(y_true, y_pred)\n",
        "\n",
        "# Create the plot and add labels\n",
        "plt.plot(recall, precision, color=\"blue\", label=\"Precision-Recall Curve\")\n",
        "plt.xlim([0, 1])\n",
        "plt.ylim([0, 1])\n",
        "plt.xlabel(\"Recall\")\n",
        "plt.ylabel(\"Precision\")\n",
        "plt.title(\"Precision-Recall Curve\")\n",
        "plt.legend(loc=\"lower left\")\n",
        "\n",
        "# Show the plot\n",
        "plt.show()"
      ]
    },
    {
      "attachments": {},
      "cell_type": "markdown",
      "metadata": {
        "id": "P_LwFYye0S2X"
      },
      "source": [
        "# Logistic Regression"
      ]
    },
    {
      "cell_type": "code",
      "execution_count": 20,
      "metadata": {
        "colab": {
          "base_uri": "https://localhost:8080/",
          "height": 75
        },
        "id": "Zch8ij2hsDm4",
        "outputId": "7da87df0-7049-4a5a-990c-4bc24e217e0f"
      },
      "outputs": [
        {
          "data": {
            "text/plain": [
              "LogisticRegression(max_iter=1000)"
            ]
          },
          "execution_count": 20,
          "metadata": {},
          "output_type": "execute_result"
        }
      ],
      "source": [
        "from sklearn.linear_model import LogisticRegression\n",
        "lr = LogisticRegression(max_iter=1000)\n",
        "lr.fit(X_train, y_train)"
      ]
    },
    {
      "cell_type": "code",
      "execution_count": 21,
      "metadata": {
        "colab": {
          "base_uri": "https://localhost:8080/",
          "height": 0
        },
        "id": "JvWTS6GNyZcB",
        "outputId": "9b5477f0-f6d9-4736-e95e-4a71eddd061b"
      },
      "outputs": [],
      "source": [
        "y_test_prediction_lr = lr.predict(X_test)"
      ]
    },
    {
      "cell_type": "code",
      "execution_count": 22,
      "metadata": {
        "colab": {
          "base_uri": "https://localhost:8080/",
          "height": 0
        },
        "id": "Dj1eUeXQzSWn",
        "outputId": "fc82545a-0cb7-4b53-8d40-e6d808caa310"
      },
      "outputs": [],
      "source": [
        "predicted_labels_lr = le.transform(y_test_prediction_lr)"
      ]
    },
    {
      "cell_type": "code",
      "execution_count": 23,
      "metadata": {
        "colab": {
          "base_uri": "https://localhost:8080/",
          "height": 0
        },
        "id": "lQP1wCvvzeE_",
        "outputId": "2adceed4-dee2-40a7-b30b-eb8d74709e34"
      },
      "outputs": [
        {
          "name": "stdout",
          "output_type": "stream",
          "text": [
            "Logistic Regression Accuracy Measures:\n",
            "F1 Score: 0.893730886850153\n",
            "AUC-ROC: 0.8934706647260221\n",
            "Accuracy: 0.8930563569917291\n",
            "Precision: 0.8723880597014926\n",
            "Recall: 0.9161442006269592\n"
          ]
        }
      ],
      "source": [
        "print('Logistic Regression Accuracy Measures:')\n",
        "print('F1 Score:', f1_score(actual_labels, predicted_labels_lr))\n",
        "print('AUC-ROC:', roc_auc_score(actual_labels, predicted_labels_lr))\n",
        "print('Accuracy:', accuracy_score(actual_labels, predicted_labels_lr))\n",
        "print('Precision:', precision_score(actual_labels, predicted_labels_lr))\n",
        "print('Recall:', recall_score(actual_labels, predicted_labels_lr))"
      ]
    },
    {
      "attachments": {},
      "cell_type": "markdown",
      "metadata": {},
      "source": [
        "Confusion Matrix"
      ]
    },
    {
      "cell_type": "code",
      "execution_count": 24,
      "metadata": {},
      "outputs": [
        {
          "data": {
            "image/png": "[encoded data removed]",
            "text/plain": [
              "<Figure size 432x288 with 1 Axes>"
            ]
          },
          "metadata": {
            "needs_background": "light"
          },
          "output_type": "display_data"
        }
      ],
      "source": [
        "# Define the actual labels and predicted values\n",
        "y_true = np.array(actual_labels)\n",
        "y_pred = np.array(predicted_labels_lr)\n",
        "\n",
        "# Compute the confusion matrix\n",
        "cm = confusion_matrix(y_true, y_pred)\n",
        "\n",
        "# Define the labels for the matrix\n",
        "labels = [\"Not Sexist (0)\", \"Sexist (1)\"]\n",
        "\n",
        "# Create the plot and add labels\n",
        "plt.imshow(cm, cmap=\"binary\")\n",
        "plt.xticks([0, 1], labels)\n",
        "plt.yticks([0, 1], labels)\n",
        "plt.xlabel(\"Predicted\")\n",
        "plt.ylabel(\"Actual\")\n",
        "\n",
        "# Add the counts to the plot\n",
        "for i in range(2):\n",
        "    for j in range(2):\n",
        "        plt.text(j, i, str(cm[i, j]), ha=\"center\", va=\"center\", color=\"red\")\n",
        "\n",
        "# Show the plot\n",
        "plt.show()"
      ]
    },
    {
      "attachments": {},
      "cell_type": "markdown",
      "metadata": {},
      "source": [
        "ROC Curve"
      ]
    },
    {
      "cell_type": "code",
      "execution_count": 25,
      "metadata": {},
      "outputs": [
        {
          "data": {
            "image/png": "[encoded data removed]",
            "text/plain": [
              "<Figure size 432x288 with 1 Axes>"
            ]
          },
          "metadata": {
            "needs_background": "light"
          },
          "output_type": "display_data"
        }
      ],
      "source": [
        "from sklearn.metrics import roc_curve, auc\n",
        "\n",
        "# Define the actual labels and predicted values\n",
        "y_true = np.array(actual_labels)\n",
        "y_pred = np.array(predicted_labels_lr)\n",
        "\n",
        "# Compute the false positive rate, true positive rate, and threshold values\n",
        "fpr, tpr, thresholds = roc_curve(y_true, y_pred)\n",
        "\n",
        "# Compute the area under the ROC curve\n",
        "roc_auc = auc(fpr, tpr)\n",
        "\n",
        "# Create the plot and add labels\n",
        "plt.plot(fpr, tpr, color=\"blue\", label=\"ROC curve (AUC = {:.2f})\".format(roc_auc))\n",
        "plt.plot([0, 1], [0, 1], color=\"red\", linestyle=\"--\", label=\"Random guess\")\n",
        "plt.xlim([0, 1])\n",
        "plt.ylim([0, 1])\n",
        "plt.xlabel(\"False Positive Rate\")\n",
        "plt.ylabel(\"True Positive Rate\")\n",
        "plt.title(\"Receiver Operating Characteristic (ROC) Curve\")\n",
        "plt.legend(loc=\"lower right\")\n",
        "\n",
        "# Show the plot\n",
        "plt.show()"
      ]
    },
    {
      "attachments": {},
      "cell_type": "markdown",
      "metadata": {},
      "source": [
        "Precison-Recall Curve"
      ]
    },
    {
      "cell_type": "code",
      "execution_count": 26,
      "metadata": {},
      "outputs": [
        {
          "data": {
            "image/png": "[encoded data removed]",
            "text/plain": [
              "<Figure size 432x288 with 1 Axes>"
            ]
          },
          "metadata": {
            "needs_background": "light"
          },
          "output_type": "display_data"
        }
      ],
      "source": [
        "from sklearn.metrics import precision_recall_curve\n",
        "\n",
        "# Define the actual labels and predicted values\n",
        "y_true = np.array(actual_labels)\n",
        "y_pred = np.array(predicted_labels_lr)\n",
        "\n",
        "# Compute the precision, recall, and threshold values\n",
        "precision, recall, thresholds = precision_recall_curve(y_true, y_pred)\n",
        "\n",
        "# Create the plot and add labels\n",
        "plt.plot(recall, precision, color=\"blue\", label=\"Precision-Recall Curve\")\n",
        "plt.xlim([0, 1])\n",
        "plt.ylim([0, 1])\n",
        "plt.xlabel(\"Recall\")\n",
        "plt.ylabel(\"Precision\")\n",
        "plt.title(\"Precision-Recall Curve\")\n",
        "plt.legend(loc=\"lower left\")\n",
        "\n",
        "# Show the plot\n",
        "plt.show()"
      ]
    },
    {
      "attachments": {},
      "cell_type": "markdown",
      "metadata": {
        "id": "3iyyzWSEcZYJ"
      },
      "source": [
        "# SVM"
      ]
    },
    {
      "cell_type": "code",
      "execution_count": 27,
      "metadata": {
        "colab": {
          "base_uri": "https://localhost:8080/",
          "height": 75
        },
        "id": "Px6wXPDGcbB4",
        "outputId": "a5e1ee59-a1f7-4460-d9b9-db71b80fa763"
      },
      "outputs": [
        {
          "data": {
            "text/plain": [
              "SVC(kernel='linear')"
            ]
          },
          "execution_count": 27,
          "metadata": {},
          "output_type": "execute_result"
        }
      ],
      "source": [
        "from sklearn.svm import SVC\n",
        "svc = SVC(kernel=\"linear\")\n",
        "svc.fit(X_train, y_train)"
      ]
    },
    {
      "cell_type": "code",
      "execution_count": 28,
      "metadata": {
        "colab": {
          "base_uri": "https://localhost:8080/",
          "height": 0
        },
        "id": "xJTxVwrbt0un",
        "outputId": "426d28d4-8391-4ab1-fcfb-5beaf24bfcce"
      },
      "outputs": [],
      "source": [
        "y_test_prediction_svc = svc.predict(X_test)"
      ]
    },
    {
      "cell_type": "code",
      "execution_count": 29,
      "metadata": {
        "colab": {
          "base_uri": "https://localhost:8080/",
          "height": 0
        },
        "id": "05rcSLeOt5yv",
        "outputId": "c4f5d63e-cb22-4a1d-bb0d-be9ed5a68335"
      },
      "outputs": [],
      "source": [
        "predicted_labels_svc = le.transform(y_test_prediction_svc)"
      ]
    },
    {
      "cell_type": "code",
      "execution_count": 30,
      "metadata": {
        "colab": {
          "base_uri": "https://localhost:8080/",
          "height": 0
        },
        "id": "g71Mnvlht5h3",
        "outputId": "c5ecf7d8-2480-4a69-c0dd-b522c209cab3"
      },
      "outputs": [
        {
          "name": "stdout",
          "output_type": "stream",
          "text": [
            "SVM Accuracy Measures:\n",
            "F1 Score: 0.8947763998496805\n",
            "AUC-ROC: 0.8930174545501917\n",
            "Accuracy: 0.892286978265051\n",
            "Precision: 0.8595667870036101\n",
            "Recall: 0.9329937304075235\n"
          ]
        }
      ],
      "source": [
        "print('SVM Accuracy Measures:')\n",
        "print('F1 Score:', f1_score(actual_labels, predicted_labels_svc))\n",
        "print('AUC-ROC:', roc_auc_score(actual_labels, predicted_labels_svc))\n",
        "print('Accuracy:', accuracy_score(actual_labels, predicted_labels_svc))\n",
        "print('Precision:', precision_score(actual_labels, predicted_labels_svc))\n",
        "print('Recall:', recall_score(actual_labels, predicted_labels_svc))"
      ]
    },
    {
      "attachments": {},
      "cell_type": "markdown",
      "metadata": {},
      "source": [
        "Confusion Matrix"
      ]
    },
    {
      "cell_type": "code",
      "execution_count": 31,
      "metadata": {},
      "outputs": [
        {
          "data": {
            "image/png": "[encoded data removed]",
            "text/plain": [
              "<Figure size 432x288 with 1 Axes>"
            ]
          },
          "metadata": {
            "needs_background": "light"
          },
          "output_type": "display_data"
        }
      ],
      "source": [
        "# Define the actual labels and predicted values\n",
        "y_true = np.array(actual_labels)\n",
        "y_pred = np.array(predicted_labels_svc)\n",
        "\n",
        "# Compute the confusion matrix\n",
        "cm = confusion_matrix(y_true, y_pred)\n",
        "\n",
        "# Define the labels for the matrix\n",
        "labels = [\"Not Sexist (0)\", \"Sexist (1)\"]\n",
        "\n",
        "# Create the plot and add labels\n",
        "plt.imshow(cm, cmap=\"binary\")\n",
        "plt.xticks([0, 1], labels)\n",
        "plt.yticks([0, 1], labels)\n",
        "plt.xlabel(\"Predicted\")\n",
        "plt.ylabel(\"Actual\")\n",
        "\n",
        "# Add the counts to the plot\n",
        "for i in range(2):\n",
        "    for j in range(2):\n",
        "        plt.text(j, i, str(cm[i, j]), ha=\"center\", va=\"center\", color=\"red\")\n",
        "\n",
        "# Show the plot\n",
        "plt.show()"
      ]
    },
    {
      "attachments": {},
      "cell_type": "markdown",
      "metadata": {},
      "source": [
        "ROC Curve"
      ]
    },
    {
      "cell_type": "code",
      "execution_count": 32,
      "metadata": {},
      "outputs": [
        {
          "data": {
            "image/png": "[encoded data removed]",
            "text/plain": [
              "<Figure size 432x288 with 1 Axes>"
            ]
          },
          "metadata": {
            "needs_background": "light"
          },
          "output_type": "display_data"
        }
      ],
      "source": [
        "from sklearn.metrics import roc_curve, auc\n",
        "\n",
        "# Define the actual labels and predicted values\n",
        "y_true = np.array(actual_labels)\n",
        "y_pred = np.array(predicted_labels_svc)\n",
        "\n",
        "# Compute the false positive rate, true positive rate, and threshold values\n",
        "fpr, tpr, thresholds = roc_curve(y_true, y_pred)\n",
        "\n",
        "# Compute the area under the ROC curve\n",
        "roc_auc = auc(fpr, tpr)\n",
        "\n",
        "# Create the plot and add labels\n",
        "plt.plot(fpr, tpr, color=\"blue\", label=\"ROC curve (AUC = {:.2f})\".format(roc_auc))\n",
        "plt.plot([0, 1], [0, 1], color=\"red\", linestyle=\"--\", label=\"Random guess\")\n",
        "plt.xlim([0, 1])\n",
        "plt.ylim([0, 1])\n",
        "plt.xlabel(\"False Positive Rate\")\n",
        "plt.ylabel(\"True Positive Rate\")\n",
        "plt.title(\"Receiver Operating Characteristic (ROC) Curve\")\n",
        "plt.legend(loc=\"lower right\")\n",
        "\n",
        "# Show the plot\n",
        "plt.show()"
      ]
    },
    {
      "attachments": {},
      "cell_type": "markdown",
      "metadata": {},
      "source": [
        "Precison-Recall Curve"
      ]
    },
    {
      "cell_type": "code",
      "execution_count": 33,
      "metadata": {},
      "outputs": [
        {
          "data": {
            "image/png": "[encoded data removed]",
            "text/plain": [
              "<Figure size 432x288 with 1 Axes>"
            ]
          },
          "metadata": {
            "needs_background": "light"
          },
          "output_type": "display_data"
        }
      ],
      "source": [
        "from sklearn.metrics import precision_recall_curve\n",
        "\n",
        "# Define the actual labels and predicted values\n",
        "y_true = np.array(actual_labels)\n",
        "y_pred = np.array(predicted_labels_svc)\n",
        "\n",
        "# Compute the precision, recall, and threshold values\n",
        "precision, recall, thresholds = precision_recall_curve(y_true, y_pred)\n",
        "\n",
        "# Create the plot and add labels\n",
        "plt.plot(recall, precision, color=\"blue\", label=\"Precision-Recall Curve\")\n",
        "plt.xlim([0, 1])\n",
        "plt.ylim([0, 1])\n",
        "plt.xlabel(\"Recall\")\n",
        "plt.ylabel(\"Precision\")\n",
        "plt.title(\"Precision-Recall Curve\")\n",
        "plt.legend(loc=\"lower left\")\n",
        "\n",
        "# Show the plot\n",
        "plt.show()"
      ]
    },
    {
      "attachments": {},
      "cell_type": "markdown",
      "metadata": {
        "id": "f4oc3aJSjtKH"
      },
      "source": [
        "# Random Forest"
      ]
    },
    {
      "cell_type": "code",
      "execution_count": 35,
      "metadata": {
        "colab": {
          "base_uri": "https://localhost:8080/",
          "height": 75
        },
        "id": "OWQxmX-H8MGn",
        "outputId": "84c876f6-31bf-404e-b9fb-ea13cb3b0a65"
      },
      "outputs": [
        {
          "data": {
            "text/plain": [
              "RandomForestClassifier()"
            ]
          },
          "execution_count": 35,
          "metadata": {},
          "output_type": "execute_result"
        }
      ],
      "source": [
        "from sklearn.ensemble import RandomForestClassifier\n",
        "rf = RandomForestClassifier()\n",
        "rf.fit(X_train, y_train)"
      ]
    },
    {
      "cell_type": "code",
      "execution_count": 36,
      "metadata": {
        "colab": {
          "base_uri": "https://localhost:8080/",
          "height": 0
        },
        "id": "WCI_z80M8PlH",
        "outputId": "cc2c7002-5c83-45c5-c2c5-c67a09f04023"
      },
      "outputs": [],
      "source": [
        "y_test_prediction_rf = rf.predict(X_test)"
      ]
    },
    {
      "cell_type": "code",
      "execution_count": 37,
      "metadata": {
        "colab": {
          "base_uri": "https://localhost:8080/",
          "height": 0
        },
        "id": "WTqsGXgn8T3_",
        "outputId": "a2e38fc7-2571-432e-ea53-cd40579d776e"
      },
      "outputs": [],
      "source": [
        "predicted_labels_rf = le.transform(y_test_prediction_rf)"
      ]
    },
    {
      "cell_type": "code",
      "execution_count": 38,
      "metadata": {
        "colab": {
          "base_uri": "https://localhost:8080/",
          "height": 0
        },
        "id": "0xA4zKL28WhW",
        "outputId": "b84b6015-5f2a-4cfa-b550-13f93e5e7bf5"
      },
      "outputs": [
        {
          "name": "stdout",
          "output_type": "stream",
          "text": [
            "Random Forest Accuracy Measures:\n",
            "F1 Score: 0.9487027134085958\n",
            "AUC-ROC: 0.9499727170878962\n",
            "Accuracy: 0.950182727447586\n",
            "Precision: 0.9591509811774129\n",
            "Recall: 0.9384796238244514\n"
          ]
        }
      ],
      "source": [
        "print('Random Forest Accuracy Measures:')\n",
        "print('F1 Score:', f1_score(actual_labels, predicted_labels_rf))\n",
        "print('AUC-ROC:', roc_auc_score(actual_labels, predicted_labels_rf))\n",
        "print('Accuracy:', accuracy_score(actual_labels, predicted_labels_rf))\n",
        "print('Precision:', precision_score(actual_labels, predicted_labels_rf))\n",
        "print('Recall:', recall_score(actual_labels, predicted_labels_rf))"
      ]
    },
    {
      "attachments": {},
      "cell_type": "markdown",
      "metadata": {},
      "source": [
        "Confusion Matrix"
      ]
    },
    {
      "cell_type": "code",
      "execution_count": 39,
      "metadata": {},
      "outputs": [
        {
          "data": {
            "image/png": "[encoded data removed]",
            "text/plain": [
              "<Figure size 432x288 with 1 Axes>"
            ]
          },
          "metadata": {
            "needs_background": "light"
          },
          "output_type": "display_data"
        }
      ],
      "source": [
        "# Define the actual labels and predicted values\n",
        "y_true = np.array(actual_labels)\n",
        "y_pred = np.array(predicted_labels_rf)\n",
        "\n",
        "# Compute the confusion matrix\n",
        "cm = confusion_matrix(y_true, y_pred)\n",
        "\n",
        "# Define the labels for the matrix\n",
        "labels = [\"Not Sexist (0)\", \"Sexist (1)\"]\n",
        "\n",
        "# Create the plot and add labels\n",
        "plt.imshow(cm, cmap=\"binary\")\n",
        "plt.xticks([0, 1], labels)\n",
        "plt.yticks([0, 1], labels)\n",
        "plt.xlabel(\"Predicted\")\n",
        "plt.ylabel(\"Actual\")\n",
        "\n",
        "# Add the counts to the plot\n",
        "for i in range(2):\n",
        "    for j in range(2):\n",
        "        plt.text(j, i, str(cm[i, j]), ha=\"center\", va=\"center\", color=\"red\")\n",
        "\n",
        "# Show the plot\n",
        "plt.show()"
      ]
    },
    {
      "attachments": {},
      "cell_type": "markdown",
      "metadata": {},
      "source": [
        "ROC Curve"
      ]
    },
    {
      "cell_type": "code",
      "execution_count": 40,
      "metadata": {},
      "outputs": [
        {
          "data": {
            "image/png": "[encoded data removed]",
            "text/plain": [
              "<Figure size 432x288 with 1 Axes>"
            ]
          },
          "metadata": {
            "needs_background": "light"
          },
          "output_type": "display_data"
        }
      ],
      "source": [
        "from sklearn.metrics import roc_curve, auc\n",
        "\n",
        "# Define the actual labels and predicted values\n",
        "y_true = np.array(actual_labels)\n",
        "y_pred = np.array(predicted_labels_rf)\n",
        "\n",
        "# Compute the false positive rate, true positive rate, and threshold values\n",
        "fpr, tpr, thresholds = roc_curve(y_true, y_pred)\n",
        "\n",
        "# Compute the area under the ROC curve\n",
        "roc_auc = auc(fpr, tpr)\n",
        "\n",
        "# Create the plot and add labels\n",
        "plt.plot(fpr, tpr, color=\"blue\", label=\"ROC curve (AUC = {:.2f})\".format(roc_auc))\n",
        "plt.plot([0, 1], [0, 1], color=\"red\", linestyle=\"--\", label=\"Random guess\")\n",
        "plt.xlim([0, 1])\n",
        "plt.ylim([0, 1])\n",
        "plt.xlabel(\"False Positive Rate\")\n",
        "plt.ylabel(\"True Positive Rate\")\n",
        "plt.title(\"Receiver Operating Characteristic (ROC) Curve\")\n",
        "plt.legend(loc=\"lower right\")\n",
        "\n",
        "# Show the plot\n",
        "plt.show()"
      ]
    },
    {
      "attachments": {},
      "cell_type": "markdown",
      "metadata": {},
      "source": [
        "Precison-Recall Curve"
      ]
    },
    {
      "cell_type": "code",
      "execution_count": 41,
      "metadata": {},
      "outputs": [
        {
          "data": {
            "image/png": "[encoded data removed]",
            "text/plain": [
              "<Figure size 432x288 with 1 Axes>"
            ]
          },
          "metadata": {
            "needs_background": "light"
          },
          "output_type": "display_data"
        }
      ],
      "source": [
        "from sklearn.metrics import precision_recall_curve\n",
        "\n",
        "# Define the actual labels and predicted values\n",
        "y_true = np.array(actual_labels)\n",
        "y_pred = np.array(predicted_labels_rf)\n",
        "\n",
        "# Compute the precision, recall, and threshold values\n",
        "precision, recall, thresholds = precision_recall_curve(y_true, y_pred)\n",
        "\n",
        "# Create the plot and add labels\n",
        "plt.plot(recall, precision, color=\"blue\", label=\"Precision-Recall Curve\")\n",
        "plt.xlim([0, 1])\n",
        "plt.ylim([0, 1])\n",
        "plt.xlabel(\"Recall\")\n",
        "plt.ylabel(\"Precision\")\n",
        "plt.title(\"Precision-Recall Curve\")\n",
        "plt.legend(loc=\"lower left\")\n",
        "\n",
        "# Show the plot\n",
        "plt.show()"
      ]
    }
  ],
  "metadata": {
    "colab": {
      "provenance": []
    },
    "kernelspec": {
      "display_name": "Python 3",
      "name": "python3"
    },
    "language_info": {
      "codemirror_mode": {
        "name": "ipython",
        "version": 3
      },
      "file_extension": ".py",
      "mimetype": "text/x-python",
      "name": "python",
      "nbconvert_exporter": "python",
      "pygments_lexer": "ipython3",
      "version": "3.9.12"
    }
  },
  "nbformat": 4,
  "nbformat_minor": 0
}
